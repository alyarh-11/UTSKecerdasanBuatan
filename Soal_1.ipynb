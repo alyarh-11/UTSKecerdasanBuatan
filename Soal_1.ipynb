{
  "nbformat": 4,
  "nbformat_minor": 0,
  "metadata": {
    "colab": {
      "provenance": [],
      "authorship_tag": "ABX9TyNt9IvpVNEMBtmSIukEXcup",
      "include_colab_link": true
    },
    "kernelspec": {
      "name": "python3",
      "display_name": "Python 3"
    },
    "language_info": {
      "name": "python"
    }
  },
  "cells": [
    {
      "cell_type": "markdown",
      "metadata": {
        "id": "view-in-github",
        "colab_type": "text"
      },
      "source": [
        "<a href=\"https://colab.research.google.com/github/alyarh-11/UTSKecerdasanBuatan/blob/main/Soal_1.ipynb\" target=\"_parent\"><img src=\"https://colab.research.google.com/assets/colab-badge.svg\" alt=\"Open In Colab\"/></a>"
      ]
    },
    {
      "cell_type": "code",
      "execution_count": 3,
      "metadata": {
        "colab": {
          "base_uri": "https://localhost:8080/"
        },
        "id": "2DGnuml16-8a",
        "outputId": "b4323b1b-5ccc-4a6f-fddf-d4d436b92a32"
      },
      "outputs": [
        {
          "output_type": "stream",
          "name": "stdout",
          "text": [
            "Masukkan kondisi tanaman (y/n):\n",
            "Apakah daun menguning? (y/n): y\n",
            "Apakah terdapat bercak hitam? (y/n): n\n",
            "Apakah daun berlubang? (y/n): y\n",
            "Apakah tanaman layu? (y/n): y\n",
            "Diagnosa: Serangan Virus\n"
          ]
        }
      ],
      "source": [
        "def diagnosis_tanaman(daun_menguning, bercak_hitam, daun_berlubang, tanaman_layu):\n",
        "    if daun_menguning and tanaman_layu:\n",
        "        return \"Diagnosa: Serangan Virus\"\n",
        "    elif daun_berlubang and bercak_hitam:\n",
        "        retyurn \"Diagnosa: Serangan Ulat\"\n",
        "    elif daun_menguning and not bercak_hitam and not daun_berlubang and not tanaman_layu:\n",
        "        return \"Diagnosa: Defisiensi Nutrisi\"\n",
        "    elif tanaman_layu and bercak_hitam:\n",
        "        return \"Diagnosa: Penyakit Jamur\"\n",
        "    else:\n",
        "        return \"Diagnosa: Gejala tidak teridentifikasi, perlu pemeriksaan lanjut\"\n",
        "\n",
        "print(\"Masukkan kondisi tanaman (y/n):\")\n",
        "daun_menguning = input(\"Apakah daun menguning? (y/n): \").lower() == 'y'\n",
        "bercak_hitam = input(\"Apakah terdapat bercak hitam? (y/n): \").lower() == 'y'\n",
        "daun_berlubang = input(\"Apakah daun berlubang? (y/n): \").lower() == 'y'\n",
        "tanaman_layu = input(\"Apakah tanaman layu? (y/n): \").lower() == 'y'\n",
        "\n",
        "hasil = diagnosis_tanaman(daun_menguning, bercak_hitam, daun_berlubang, tanaman_layu)\n",
        "print(hasil)\n"
      ]
    }
  ]
}